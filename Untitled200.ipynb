{
 "cells": [
  {
   "cell_type": "code",
   "execution_count": 1,
   "id": "e47906ec",
   "metadata": {},
   "outputs": [],
   "source": [
    "import mediapipe as mp\n",
    "import cv2\n",
    "import numpy as np\n",
    "import uuid\n",
    "import os\n",
    "import screen_brightness_control as sbc"
   ]
  },
  {
   "cell_type": "code",
   "execution_count": 68,
   "id": "bc47a434",
   "metadata": {},
   "outputs": [
    {
     "name": "stdout",
     "output_type": "stream",
     "text": [
      "Requirement already satisfied: screen_brightness_control in c:\\users\\dell\\appdata\\local\\programs\\python\\python38\\lib\\site-packages (0.9.0)Note: you may need to restart the kernel to use updated packages.\n",
      "\n",
      "Requirement already satisfied: wmi in c:\\users\\dell\\appdata\\local\\programs\\python\\python38\\lib\\site-packages (from screen_brightness_control) (1.5.1)\n",
      "Requirement already satisfied: pywin32 in c:\\users\\dell\\appdata\\local\\programs\\python\\python38\\lib\\site-packages (from wmi->screen_brightness_control) (302)\n"
     ]
    },
    {
     "name": "stderr",
     "output_type": "stream",
     "text": [
      "WARNING: Ignoring invalid distribution -rotobuf (c:\\users\\dell\\appdata\\local\\programs\\python\\python38\\lib\\site-packages)\n",
      "WARNING: Ignoring invalid distribution -illow (c:\\users\\dell\\appdata\\local\\programs\\python\\python38\\lib\\site-packages)\n",
      "WARNING: Ignoring invalid distribution -rotobuf (c:\\users\\dell\\appdata\\local\\programs\\python\\python38\\lib\\site-packages)\n",
      "WARNING: Ignoring invalid distribution -illow (c:\\users\\dell\\appdata\\local\\programs\\python\\python38\\lib\\site-packages)\n",
      "WARNING: Ignoring invalid distribution -rotobuf (c:\\users\\dell\\appdata\\local\\programs\\python\\python38\\lib\\site-packages)\n",
      "WARNING: Ignoring invalid distribution -illow (c:\\users\\dell\\appdata\\local\\programs\\python\\python38\\lib\\site-packages)\n",
      "WARNING: Ignoring invalid distribution -rotobuf (c:\\users\\dell\\appdata\\local\\programs\\python\\python38\\lib\\site-packages)\n",
      "WARNING: Ignoring invalid distribution -illow (c:\\users\\dell\\appdata\\local\\programs\\python\\python38\\lib\\site-packages)\n",
      "WARNING: Ignoring invalid distribution -rotobuf (c:\\users\\dell\\appdata\\local\\programs\\python\\python38\\lib\\site-packages)\n",
      "WARNING: Ignoring invalid distribution -illow (c:\\users\\dell\\appdata\\local\\programs\\python\\python38\\lib\\site-packages)\n",
      "WARNING: Ignoring invalid distribution -rotobuf (c:\\users\\dell\\appdata\\local\\programs\\python\\python38\\lib\\site-packages)\n",
      "WARNING: Ignoring invalid distribution -illow (c:\\users\\dell\\appdata\\local\\programs\\python\\python38\\lib\\site-packages)\n",
      "WARNING: You are using pip version 21.3.1; however, version 22.3.1 is available.\n",
      "You should consider upgrading via the 'c:\\users\\dell\\appdata\\local\\programs\\python\\python38\\python.exe -m pip install --upgrade pip' command.\n"
     ]
    }
   ],
   "source": [
    "pip install screen_brightness_control"
   ]
  },
  {
   "cell_type": "code",
   "execution_count": 2,
   "id": "0e78e0c2",
   "metadata": {},
   "outputs": [],
   "source": [
    "mp_drawing = mp.solutions.drawing_utils\n",
    "mp_hands = mp.solutions.hands"
   ]
  },
  {
   "cell_type": "code",
   "execution_count": null,
   "id": "32f3ba74",
   "metadata": {},
   "outputs": [],
   "source": [
    "cap = cv2.VideoCapture('video4.mp4')\n",
    "hands = mp_hands.Hands(min_detection_confidence=0.5,min_tracking_confidence=0.5)\n",
    "\n",
    "while hands:\n",
    "    while cap.isOpened():\n",
    "        current_brightness = sbc.get_brightness()\n",
    "        print('Current Brightness:',current_brightness)\n",
    "        ret,frame = cap.read()\n",
    "        image = cv2.cvtColor(frame,cv2.COLOR_BGR2RGB)\n",
    "        image.flags.writeable = False\n",
    "        results = hands.process(image)\n",
    "        image.flags.writeable = True\n",
    "        image = cv2.cvtColor(image,cv2.COLOR_RGB2BGR)\n",
    "        #print(results)\n",
    "        if results.multi_hand_landmarks:\n",
    "            for num,hand in enumerate(results.multi_hand_landmarks):\n",
    "                mp_drawing.draw_landmarks(image,hand,mp_hands.HAND_CONNECTIONS,mp_drawing.DrawingSpec(color=(121,22,76),thickness=2,circle_radius=4),mp_drawing.DrawingSpec(color=(250,44,250),thickness=2,circle_radius=2))\n",
    "            draw_finger_angles(image,results,joint_list)\n",
    "        cv2.imshow('Hand Tracking',image)\n",
    "        if cv2.waitKey(10) & 0xFF == ord('q'):\n",
    "            break;\n",
    "cap.release()\n",
    "cv2.destroyAllWindows()"
   ]
  },
  {
   "cell_type": "code",
   "execution_count": 4,
   "id": "27e8a50d",
   "metadata": {},
   "outputs": [],
   "source": [
    "INDEX_FINGER_PIP=results.multi_hand_landmarks[0].landmark[mp_hands.HandLandmark.INDEX_FINGER_PIP]"
   ]
  },
  {
   "cell_type": "code",
   "execution_count": 5,
   "id": "380e0fbc",
   "metadata": {},
   "outputs": [],
   "source": [
    "INDEX_FINGER_MCP=results.multi_hand_landmarks[0].landmark[mp_hands.HandLandmark.INDEX_FINGER_MCP]"
   ]
  },
  {
   "cell_type": "code",
   "execution_count": 6,
   "id": "c9e5956f",
   "metadata": {},
   "outputs": [],
   "source": [
    "MIDDLE_FINGER_MCP=results.multi_hand_landmarks[0].landmark[mp_hands.HandLandmark.MIDDLE_FINGER_MCP]"
   ]
  },
  {
   "cell_type": "code",
   "execution_count": 7,
   "id": "c9d47275",
   "metadata": {},
   "outputs": [],
   "source": [
    "import matplotlib.pyplot as plt"
   ]
  },
  {
   "cell_type": "code",
   "execution_count": 8,
   "id": "dab08bd0",
   "metadata": {},
   "outputs": [],
   "source": [
    "joint_list = [[6,5,9]]"
   ]
  },
  {
   "cell_type": "code",
   "execution_count": 9,
   "id": "be45df64",
   "metadata": {},
   "outputs": [
    {
     "data": {
      "text/plain": [
       "[6, 5, 9]"
      ]
     },
     "execution_count": 9,
     "metadata": {},
     "output_type": "execute_result"
    }
   ],
   "source": [
    "joint_list[0]"
   ]
  },
  {
   "cell_type": "code",
   "execution_count": 10,
   "id": "f70c0047",
   "metadata": {},
   "outputs": [
    {
     "ename": "TypeError",
     "evalue": "indices must be integers, not list",
     "output_type": "error",
     "traceback": [
      "\u001b[1;31m---------------------------------------------------------------------------\u001b[0m",
      "\u001b[1;31mTypeError\u001b[0m                                 Traceback (most recent call last)",
      "\u001b[1;32m~\\AppData\\Local\\Temp/ipykernel_9140/839962094.py\u001b[0m in \u001b[0;36m<module>\u001b[1;34m\u001b[0m\n\u001b[1;32m----> 1\u001b[1;33m \u001b[1;33m[\u001b[0m\u001b[0mhand\u001b[0m\u001b[1;33m.\u001b[0m\u001b[0mlandmark\u001b[0m\u001b[1;33m[\u001b[0m\u001b[0mjoint_list\u001b[0m\u001b[1;33m[\u001b[0m\u001b[1;36m0\u001b[0m\u001b[1;33m]\u001b[0m\u001b[1;33m]\u001b[0m\u001b[1;33m.\u001b[0m\u001b[0mx\u001b[0m\u001b[1;33m]\u001b[0m\u001b[1;33m\u001b[0m\u001b[1;33m\u001b[0m\u001b[0m\n\u001b[0m",
      "\u001b[1;31mTypeError\u001b[0m: indices must be integers, not list"
     ]
    }
   ],
   "source": [
    "[hand.landmark[joint_list[0]].x]"
   ]
  },
  {
   "cell_type": "code",
   "execution_count": 11,
   "id": "bedeaeff",
   "metadata": {},
   "outputs": [],
   "source": [
    "def draw_finger_angles(image,results,joint_list):\n",
    "    for hand in results.multi_hand_landmarks:\n",
    "        for joint in joint_list:\n",
    "            a = np.array([hand.landmark[joint[0]].x,hand.landmark[joint[0]].y])\n",
    "            b = np.array([hand.landmark[joint[1]].x,hand.landmark[joint[1]].y])\n",
    "            c = np.array([hand.landmark[joint[2]].x,hand.landmark[joint[2]].y])\n",
    "            radians = np.arctan2(c[1]-b[1],c[0]-b[0])-np.arctan2(a[1]-b[1],a[0]-b[0])\n",
    "            angle = np.abs(radians*180.0/np.pi)\n",
    "            if angle > 180:\n",
    "                angle = 360-angle\n",
    "            if angle >90:\n",
    "                print('Normal')\n",
    "            else:\n",
    "                print('Dec Brightness')\n",
    "                sbc.fade_brightness(30,increment=2)\n",
    "            cv2.putText(image,str(round(angle,2)),tuple(np.multiply(b,[2000,1100]).astype(int)),cv2.FONT_HERSHEY_TRIPLEX,0.5,(255,255,255),2,cv2.LINE_AA)\n",
    "    return image"
   ]
  }
 ],
 "metadata": {
  "kernelspec": {
   "display_name": "Python 3 (ipykernel)",
   "language": "python",
   "name": "python3"
  },
  "language_info": {
   "codemirror_mode": {
    "name": "ipython",
    "version": 3
   },
   "file_extension": ".py",
   "mimetype": "text/x-python",
   "name": "python",
   "nbconvert_exporter": "python",
   "pygments_lexer": "ipython3",
   "version": "3.8.0"
  }
 },
 "nbformat": 4,
 "nbformat_minor": 5
}
